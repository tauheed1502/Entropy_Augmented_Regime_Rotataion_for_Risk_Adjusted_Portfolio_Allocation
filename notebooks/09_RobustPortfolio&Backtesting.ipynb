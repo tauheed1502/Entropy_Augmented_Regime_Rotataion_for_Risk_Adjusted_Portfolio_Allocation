{
 "cells": [
  {
   "cell_type": "code",
   "execution_count": 1,
   "id": "0baf3351",
   "metadata": {},
   "outputs": [],
   "source": [
    "# Notebook 09: Robust Portfolio Construction & Backtesting\n",
    "\n",
    "### 🎯 Goal:\n",
    "#Construct regime-aware robust portfolios using the best regime detection method and compare their performance with the baseline entropy-volatility regime portfolios.\n",
    "\n",
    "### ✅ Step 1: Setup & Imports\n",
    "import pandas as pd\n",
    "import numpy as np\n",
    "import matplotlib.pyplot as plt\n",
    "import seaborn as sns\n",
    "\n",
    "from sklearn.preprocessing import StandardScaler\n",
    "\n",
    "# Metrics\n",
    "from scipy.stats import skew, kurtosis\n",
    "\n",
    "# Optimization\n",
    "from scipy.optimize import minimize"
   ]
  },
  {
   "cell_type": "code",
   "execution_count": 9,
   "id": "b22cd90e",
   "metadata": {},
   "outputs": [
    {
     "data": {
      "text/html": [
       "<div>\n",
       "<style scoped>\n",
       "    .dataframe tbody tr th:only-of-type {\n",
       "        vertical-align: middle;\n",
       "    }\n",
       "\n",
       "    .dataframe tbody tr th {\n",
       "        vertical-align: top;\n",
       "    }\n",
       "\n",
       "    .dataframe thead th {\n",
       "        text-align: right;\n",
       "    }\n",
       "</style>\n",
       "<table border=\"1\" class=\"dataframe\">\n",
       "  <thead>\n",
       "    <tr style=\"text-align: right;\">\n",
       "      <th></th>\n",
       "      <th>Date</th>\n",
       "      <th>vol_regime</th>\n",
       "      <th>cluster_regime</th>\n",
       "      <th>gmm_regime</th>\n",
       "      <th>hmm_regime</th>\n",
       "    </tr>\n",
       "  </thead>\n",
       "  <tbody>\n",
       "    <tr>\n",
       "      <th>0</th>\n",
       "      <td>2015-04-21</td>\n",
       "      <td>2</td>\n",
       "      <td>1</td>\n",
       "      <td>1</td>\n",
       "      <td>0</td>\n",
       "    </tr>\n",
       "    <tr>\n",
       "      <th>1</th>\n",
       "      <td>2015-04-22</td>\n",
       "      <td>2</td>\n",
       "      <td>1</td>\n",
       "      <td>1</td>\n",
       "      <td>0</td>\n",
       "    </tr>\n",
       "    <tr>\n",
       "      <th>2</th>\n",
       "      <td>2015-04-23</td>\n",
       "      <td>2</td>\n",
       "      <td>1</td>\n",
       "      <td>1</td>\n",
       "      <td>0</td>\n",
       "    </tr>\n",
       "    <tr>\n",
       "      <th>3</th>\n",
       "      <td>2015-04-27</td>\n",
       "      <td>2</td>\n",
       "      <td>1</td>\n",
       "      <td>1</td>\n",
       "      <td>0</td>\n",
       "    </tr>\n",
       "    <tr>\n",
       "      <th>4</th>\n",
       "      <td>2015-04-28</td>\n",
       "      <td>2</td>\n",
       "      <td>1</td>\n",
       "      <td>1</td>\n",
       "      <td>0</td>\n",
       "    </tr>\n",
       "  </tbody>\n",
       "</table>\n",
       "</div>"
      ],
      "text/plain": [
       "        Date  vol_regime  cluster_regime  gmm_regime  hmm_regime\n",
       "0 2015-04-21           2               1           1           0\n",
       "1 2015-04-22           2               1           1           0\n",
       "2 2015-04-23           2               1           1           0\n",
       "3 2015-04-27           2               1           1           0\n",
       "4 2015-04-28           2               1           1           0"
      ]
     },
     "execution_count": 9,
     "metadata": {},
     "output_type": "execute_result"
    }
   ],
   "source": [
    "### ✅ Step 2: Load Data\n",
    "# Load processed dataset with final regime column from previous notebook\n",
    "# Choose the best regime column (e.g., 'gmm_regime' or 'hmm_regime')\n",
    "data = pd.read_csv(\"../data/full_regimes_combined.csv\", parse_dates=['Date'])\n",
    "data.head()"
   ]
  },
  {
   "cell_type": "code",
   "execution_count": 10,
   "id": "5c1773f4",
   "metadata": {},
   "outputs": [],
   "source": [
    "### ✅ Step 3: Portfolio Construction Function (per regime)\n",
    "\n",
    "def optimize_portfolio(returns, risk_aversion=1.0):\n",
    "    mean_returns = returns.mean()\n",
    "    cov_matrix = returns.cov()\n",
    "\n",
    "    def objective(weights):\n",
    "        port_return = np.dot(weights, mean_returns)\n",
    "        port_vol = np.sqrt(np.dot(weights.T, np.dot(cov_matrix, weights)))\n",
    "        return - (port_return - risk_aversion * port_vol)\n",
    "\n",
    "    n_assets = len(mean_returns)\n",
    "    constraints = ({'type': 'eq', 'fun': lambda x: np.sum(x) - 1})\n",
    "    bounds = tuple((0, 1) for _ in range(n_assets))\n",
    "    initial_weights = np.ones(n_assets) / n_assets\n",
    "\n",
    "    result = minimize(objective, initial_weights, method='SLSQP', bounds=bounds, constraints=constraints)\n",
    "    return result.x"
   ]
  },
  {
   "cell_type": "code",
   "execution_count": 11,
   "id": "546f963a",
   "metadata": {},
   "outputs": [],
   "source": [
    "### ✅ Step 4: Regime-wise Portfolio Construction\n",
    "\n",
    "def construct_regime_portfolios(data, returns_columns, regime_column):\n",
    "    regimes = data[regime_column].unique()\n",
    "    portfolios = {}\n",
    "\n",
    "    for r in regimes:\n",
    "        subdata = data[data[regime_column] == r][returns_columns]\n",
    "        weights = optimize_portfolio(subdata)\n",
    "        portfolios[r] = weights\n",
    "\n",
    "    return portfolios"
   ]
  },
  {
   "cell_type": "code",
   "execution_count": 15,
   "id": "98523274",
   "metadata": {},
   "outputs": [],
   "source": [
    "### ✅ Step 5: Apply Portfolio Over Time\n",
    "\n",
    "def construct_regime_portfolios(data, returns_columns, regime_column):\n",
    "    regimes = data[regime_column].unique()\n",
    "    portfolios = {}\n",
    "\n",
    "    for r in regimes:\n",
    "        subdata = data[data[regime_column] == r][returns_columns]\n",
    "\n",
    "        # Skip if subdata is empty or has NaNs only\n",
    "        if subdata.empty or subdata.dropna(how='all').empty:\n",
    "            print(f\"Skipping regime {r} due to lack of data.\")\n",
    "            continue\n",
    "\n",
    "        weights = optimize_portfolio(subdata)\n",
    "        portfolios[r] = weights\n",
    "\n",
    "    return portfolios\n"
   ]
  },
  {
   "cell_type": "code",
   "execution_count": 16,
   "id": "ced88a30",
   "metadata": {},
   "outputs": [],
   "source": [
    "### ✅ Step 6: Evaluate Performance\n",
    "\n",
    "def evaluate_strategy(returns):\n",
    "    cumulative = (1 + returns).cumprod()\n",
    "    annual_return = returns.mean() * 252\n",
    "    annual_vol = returns.std() * np.sqrt(252)\n",
    "    sharpe = annual_return / annual_vol\n",
    "    max_drawdown = (cumulative / cumulative.cummax() - 1).min()\n",
    "\n",
    "    return {\n",
    "        \"Annual Return\": annual_return,\n",
    "        \"Annual Volatility\": annual_vol,\n",
    "        \"Sharpe Ratio\": sharpe,\n",
    "        \"Max Drawdown\": max_drawdown\n",
    "    }"
   ]
  },
  {
   "cell_type": "code",
   "execution_count": 17,
   "id": "4b61e7be",
   "metadata": {},
   "outputs": [
    {
     "name": "stdout",
     "output_type": "stream",
     "text": [
      "Skipping regime 1 due to lack of data.\n",
      "Skipping regime 2 due to lack of data.\n",
      "Skipping regime 0 due to lack of data.\n",
      "Skipping regime 3 due to lack of data.\n",
      "{'Annual Return': np.float64(0.0), 'Annual Volatility': np.float64(0.0), 'Sharpe Ratio': np.float64(nan), 'Max Drawdown': np.float64(0.0)}\n"
     ]
    },
    {
     "name": "stderr",
     "output_type": "stream",
     "text": [
      "C:\\Users\\iamta\\AppData\\Local\\Temp\\ipykernel_10772\\3360976806.py:7: RuntimeWarning: invalid value encountered in scalar divide\n",
      "  sharpe = annual_return / annual_vol\n"
     ]
    }
   ],
   "source": [
    "### ✅ Step 7: Run For Final Regimes\n",
    "\n",
    "# Define returns columns (e.g., sectoral index returns)\n",
    "returns_columns = [col for col in data.columns if '_ret' in col]\n",
    "\n",
    "# Choose regime column to test (e.g., 'gmm_regime')\n",
    "final_regime_column = 'gmm_regime'\n",
    "\n",
    "# Step A: Create regime-aware portfolio\n",
    "portfolios = construct_regime_portfolios(data, returns_columns, final_regime_column)\n",
    "\n",
    "# Step B: Apply weights over time\n",
    "strategy_returns = compute_portfolio_returns(data, portfolios, returns_columns, final_regime_column)\n",
    "\n",
    "# Step C: Evaluate performance\n",
    "metrics = evaluate_strategy(strategy_returns)\n",
    "print(metrics)"
   ]
  },
  {
   "cell_type": "code",
   "execution_count": null,
   "id": "67e57e43",
   "metadata": {},
   "outputs": [],
   "source": []
  }
 ],
 "metadata": {
  "kernelspec": {
   "display_name": "Python 3",
   "language": "python",
   "name": "python3"
  },
  "language_info": {
   "codemirror_mode": {
    "name": "ipython",
    "version": 3
   },
   "file_extension": ".py",
   "mimetype": "text/x-python",
   "name": "python",
   "nbconvert_exporter": "python",
   "pygments_lexer": "ipython3",
   "version": "3.11.5"
  }
 },
 "nbformat": 4,
 "nbformat_minor": 5
}
