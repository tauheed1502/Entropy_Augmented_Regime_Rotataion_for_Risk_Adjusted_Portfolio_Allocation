{
 "cells": [
  {
   "cell_type": "code",
   "execution_count": 6,
   "id": "2a5a97bc",
   "metadata": {},
   "outputs": [
    {
     "name": "stdout",
     "output_type": "stream",
     "text": [
      "Requirement already satisfied: yfinance in c:\\users\\iamta\\appdata\\local\\programs\\python\\python311\\lib\\site-packages (0.2.63)\n",
      "Requirement already satisfied: pandas>=1.3.0 in c:\\users\\iamta\\appdata\\local\\programs\\python\\python311\\lib\\site-packages (from yfinance) (2.2.3)\n",
      "Requirement already satisfied: numpy>=1.16.5 in c:\\users\\iamta\\appdata\\local\\programs\\python\\python311\\lib\\site-packages (from yfinance) (2.1.1)\n",
      "Requirement already satisfied: requests>=2.31 in c:\\users\\iamta\\appdata\\local\\programs\\python\\python311\\lib\\site-packages (from yfinance) (2.32.3)\n",
      "Requirement already satisfied: multitasking>=0.0.7 in c:\\users\\iamta\\appdata\\local\\programs\\python\\python311\\lib\\site-packages (from yfinance) (0.0.11)\n",
      "Requirement already satisfied: platformdirs>=2.0.0 in c:\\users\\iamta\\appdata\\local\\programs\\python\\python311\\lib\\site-packages (from yfinance) (4.2.2)\n",
      "Requirement already satisfied: pytz>=2022.5 in c:\\users\\iamta\\appdata\\local\\programs\\python\\python311\\lib\\site-packages (from yfinance) (2024.2)\n",
      "Requirement already satisfied: frozendict>=2.3.4 in c:\\users\\iamta\\appdata\\local\\programs\\python\\python311\\lib\\site-packages (from yfinance) (2.4.6)\n",
      "Requirement already satisfied: peewee>=3.16.2 in c:\\users\\iamta\\appdata\\local\\programs\\python\\python311\\lib\\site-packages (from yfinance) (3.18.1)\n",
      "Requirement already satisfied: beautifulsoup4>=4.11.1 in c:\\users\\iamta\\appdata\\local\\programs\\python\\python311\\lib\\site-packages (from yfinance) (4.12.3)\n",
      "Requirement already satisfied: curl_cffi>=0.7 in c:\\users\\iamta\\appdata\\local\\programs\\python\\python311\\lib\\site-packages (from yfinance) (0.11.4)\n",
      "Requirement already satisfied: protobuf>=3.19.0 in c:\\users\\iamta\\appdata\\local\\programs\\python\\python311\\lib\\site-packages (from yfinance) (6.31.1)\n",
      "Requirement already satisfied: websockets>=13.0 in c:\\users\\iamta\\appdata\\local\\programs\\python\\python311\\lib\\site-packages (from yfinance) (15.0.1)\n",
      "Requirement already satisfied: soupsieve>1.2 in c:\\users\\iamta\\appdata\\local\\programs\\python\\python311\\lib\\site-packages (from beautifulsoup4>=4.11.1->yfinance) (2.5)\n",
      "Requirement already satisfied: cffi>=1.12.0 in c:\\users\\iamta\\appdata\\local\\programs\\python\\python311\\lib\\site-packages (from curl_cffi>=0.7->yfinance) (1.16.0)\n",
      "Requirement already satisfied: certifi>=2024.2.2 in c:\\users\\iamta\\appdata\\local\\programs\\python\\python311\\lib\\site-packages (from curl_cffi>=0.7->yfinance) (2024.7.4)\n",
      "Requirement already satisfied: python-dateutil>=2.8.2 in c:\\users\\iamta\\appdata\\local\\programs\\python\\python311\\lib\\site-packages (from pandas>=1.3.0->yfinance) (2.9.0.post0)\n",
      "Requirement already satisfied: tzdata>=2022.7 in c:\\users\\iamta\\appdata\\local\\programs\\python\\python311\\lib\\site-packages (from pandas>=1.3.0->yfinance) (2024.2)\n",
      "Requirement already satisfied: charset-normalizer<4,>=2 in c:\\users\\iamta\\appdata\\local\\programs\\python\\python311\\lib\\site-packages (from requests>=2.31->yfinance) (3.3.2)\n",
      "Requirement already satisfied: idna<4,>=2.5 in c:\\users\\iamta\\appdata\\local\\programs\\python\\python311\\lib\\site-packages (from requests>=2.31->yfinance) (3.7)\n",
      "Requirement already satisfied: urllib3<3,>=1.21.1 in c:\\users\\iamta\\appdata\\local\\programs\\python\\python311\\lib\\site-packages (from requests>=2.31->yfinance) (2.2.2)\n",
      "Requirement already satisfied: pycparser in c:\\users\\iamta\\appdata\\local\\programs\\python\\python311\\lib\\site-packages (from cffi>=1.12.0->curl_cffi>=0.7->yfinance) (2.22)\n",
      "Requirement already satisfied: six>=1.5 in c:\\users\\iamta\\appdata\\local\\programs\\python\\python311\\lib\\site-packages (from python-dateutil>=2.8.2->pandas>=1.3.0->yfinance) (1.16.0)\n"
     ]
    },
    {
     "name": "stderr",
     "output_type": "stream",
     "text": [
      "\n",
      "[notice] A new release of pip is available: 23.2.1 -> 25.1.1\n",
      "[notice] To update, run: python.exe -m pip install --upgrade pip\n"
     ]
    }
   ],
   "source": [
    "!pip install yfinance\n"
   ]
  },
  {
   "cell_type": "code",
   "execution_count": 9,
   "id": "9e40590f",
   "metadata": {},
   "outputs": [
    {
     "name": "stderr",
     "output_type": "stream",
     "text": [
      "[*********************100%***********************]  1 of 1 completed\n",
      "[*********************100%***********************]  1 of 1 completed\n",
      "[*********************100%***********************]  1 of 1 completed\n",
      "[*********************100%***********************]  1 of 1 completed\n",
      "[*********************100%***********************]  1 of 1 completed"
     ]
    },
    {
     "name": "stdout",
     "output_type": "stream",
     "text": [
      "[✓] Saved NIFTY_IT.csv with columns: [('Date', ''), ('Close', '^CNXIT'), ('High', '^CNXIT'), ('Low', '^CNXIT'), ('Open', '^CNXIT'), ('Volume', '^CNXIT')]\n",
      "[✓] Saved NIFTY_BANK.csv with columns: [('Date', ''), ('Close', '^NSEBANK'), ('High', '^NSEBANK'), ('Low', '^NSEBANK'), ('Open', '^NSEBANK'), ('Volume', '^NSEBANK')]\n",
      "[✓] Saved NIFTY_FMCG.csv with columns: [('Date', ''), ('Close', '^CNXFMCG'), ('High', '^CNXFMCG'), ('Low', '^CNXFMCG'), ('Open', '^CNXFMCG'), ('Volume', '^CNXFMCG')]\n",
      "[✓] Saved NIFTY_PHARMA.csv with columns: [('Date', ''), ('Close', '^CNXPHARMA'), ('High', '^CNXPHARMA'), ('Low', '^CNXPHARMA'), ('Open', '^CNXPHARMA'), ('Volume', '^CNXPHARMA')]\n",
      "[✓] Saved NIFTY_AUTO.csv with columns: [('Date', ''), ('Close', '^CNXAUTO'), ('High', '^CNXAUTO'), ('Low', '^CNXAUTO'), ('Open', '^CNXAUTO'), ('Volume', '^CNXAUTO')]\n"
     ]
    },
    {
     "name": "stderr",
     "output_type": "stream",
     "text": [
      "\n",
      "[*********************100%***********************]  1 of 1 completed"
     ]
    },
    {
     "name": "stdout",
     "output_type": "stream",
     "text": [
      "[✓] Saved NIFTY_METAL.csv with columns: [('Date', ''), ('Close', '^CNXMETAL'), ('High', '^CNXMETAL'), ('Low', '^CNXMETAL'), ('Open', '^CNXMETAL'), ('Volume', '^CNXMETAL')]\n"
     ]
    },
    {
     "name": "stderr",
     "output_type": "stream",
     "text": [
      "\n"
     ]
    }
   ],
   "source": [
    "import os\n",
    "import pandas as pd\n",
    "import yfinance as yf\n",
    "\n",
    "#os.makedirs(\"data/raw\", exist_ok=True)\n",
    "\n",
    "# Yahoo Finance tickers for NIFTY sectoral indices\n",
    "yahoo_indices = {\n",
    "    \"NIFTY_IT\": \"^CNXIT\",\n",
    "    \"NIFTY_BANK\": \"^NSEBANK\",\n",
    "    \"NIFTY_FMCG\": \"^CNXFMCG\",\n",
    "    \"NIFTY_PHARMA\": \"^CNXPHARMA\",\n",
    "    \"NIFTY_AUTO\": \"^CNXAUTO\",\n",
    "    \"NIFTY_METAL\": \"^CNXMETAL\"\n",
    "}\n",
    "\n",
    "start_date = \"2015-01-01\"\n",
    "end_date = \"2025-06-19\"\n",
    "\n",
    "for file_name, ticker in yahoo_indices.items():\n",
    "    try:\n",
    "        df = yf.download(ticker, start=start_date, end=end_date, auto_adjust=True)\n",
    "        df.reset_index(inplace=True)\n",
    "        save_path = rf\"C:\\Users\\iamta\\Downloads\\quant-entropy-rotation\\data\\raw\\{file_name}.csv\"\n",
    "        df.to_csv(save_path, index=False)\n",
    "        print(f\"[✓] Saved {file_name}.csv with columns: {list(df.columns)}\")\n",
    "    except Exception as e:\n",
    "        print(f\"[✗] Failed to download {file_name}: {e}\")\n"
   ]
  },
  {
   "cell_type": "code",
   "execution_count": 10,
   "id": "1d306a60",
   "metadata": {},
   "outputs": [
    {
     "data": {
      "text/html": [
       "<div>\n",
       "<style scoped>\n",
       "    .dataframe tbody tr th:only-of-type {\n",
       "        vertical-align: middle;\n",
       "    }\n",
       "\n",
       "    .dataframe tbody tr th {\n",
       "        vertical-align: top;\n",
       "    }\n",
       "\n",
       "    .dataframe thead tr th {\n",
       "        text-align: left;\n",
       "    }\n",
       "</style>\n",
       "<table border=\"1\" class=\"dataframe\">\n",
       "  <thead>\n",
       "    <tr>\n",
       "      <th>Price</th>\n",
       "      <th>Date</th>\n",
       "      <th>Close</th>\n",
       "      <th>High</th>\n",
       "      <th>Low</th>\n",
       "      <th>Open</th>\n",
       "      <th>Volume</th>\n",
       "    </tr>\n",
       "    <tr>\n",
       "      <th>Ticker</th>\n",
       "      <th></th>\n",
       "      <th>^CNXMETAL</th>\n",
       "      <th>^CNXMETAL</th>\n",
       "      <th>^CNXMETAL</th>\n",
       "      <th>^CNXMETAL</th>\n",
       "      <th>^CNXMETAL</th>\n",
       "    </tr>\n",
       "  </thead>\n",
       "  <tbody>\n",
       "    <tr>\n",
       "      <th>0</th>\n",
       "      <td>2015-01-01</td>\n",
       "      <td>2693.250000</td>\n",
       "      <td>2698.949951</td>\n",
       "      <td>2646.850098</td>\n",
       "      <td>2655.649902</td>\n",
       "      <td>0</td>\n",
       "    </tr>\n",
       "    <tr>\n",
       "      <th>1</th>\n",
       "      <td>2015-01-02</td>\n",
       "      <td>2715.449951</td>\n",
       "      <td>2733.500000</td>\n",
       "      <td>2700.600098</td>\n",
       "      <td>2700.600098</td>\n",
       "      <td>0</td>\n",
       "    </tr>\n",
       "    <tr>\n",
       "      <th>2</th>\n",
       "      <td>2015-01-05</td>\n",
       "      <td>2704.500000</td>\n",
       "      <td>2738.050049</td>\n",
       "      <td>2699.250000</td>\n",
       "      <td>2721.949951</td>\n",
       "      <td>0</td>\n",
       "    </tr>\n",
       "    <tr>\n",
       "      <th>3</th>\n",
       "      <td>2015-01-06</td>\n",
       "      <td>2610.449951</td>\n",
       "      <td>2682.100098</td>\n",
       "      <td>2601.750000</td>\n",
       "      <td>2682.100098</td>\n",
       "      <td>0</td>\n",
       "    </tr>\n",
       "    <tr>\n",
       "      <th>4</th>\n",
       "      <td>2015-01-07</td>\n",
       "      <td>2568.649902</td>\n",
       "      <td>2620.600098</td>\n",
       "      <td>2544.550049</td>\n",
       "      <td>2613.350098</td>\n",
       "      <td>0</td>\n",
       "    </tr>\n",
       "  </tbody>\n",
       "</table>\n",
       "</div>"
      ],
      "text/plain": [
       "Price        Date        Close         High          Low         Open  \\\n",
       "Ticker               ^CNXMETAL    ^CNXMETAL    ^CNXMETAL    ^CNXMETAL   \n",
       "0      2015-01-01  2693.250000  2698.949951  2646.850098  2655.649902   \n",
       "1      2015-01-02  2715.449951  2733.500000  2700.600098  2700.600098   \n",
       "2      2015-01-05  2704.500000  2738.050049  2699.250000  2721.949951   \n",
       "3      2015-01-06  2610.449951  2682.100098  2601.750000  2682.100098   \n",
       "4      2015-01-07  2568.649902  2620.600098  2544.550049  2613.350098   \n",
       "\n",
       "Price     Volume  \n",
       "Ticker ^CNXMETAL  \n",
       "0              0  \n",
       "1              0  \n",
       "2              0  \n",
       "3              0  \n",
       "4              0  "
      ]
     },
     "execution_count": 10,
     "metadata": {},
     "output_type": "execute_result"
    }
   ],
   "source": [
    "df.head()"
   ]
  },
  {
   "cell_type": "code",
   "execution_count": null,
   "id": "d25cf108",
   "metadata": {},
   "outputs": [],
   "source": []
  }
 ],
 "metadata": {
  "kernelspec": {
   "display_name": "Python 3",
   "language": "python",
   "name": "python3"
  },
  "language_info": {
   "codemirror_mode": {
    "name": "ipython",
    "version": 3
   },
   "file_extension": ".py",
   "mimetype": "text/x-python",
   "name": "python",
   "nbconvert_exporter": "python",
   "pygments_lexer": "ipython3",
   "version": "3.11.5"
  }
 },
 "nbformat": 4,
 "nbformat_minor": 5
}
